{
 "cells": [
  {
   "cell_type": "code",
   "execution_count": 1,
   "metadata": {
    "collapsed": true
   },
   "outputs": [],
   "source": [
    "def get_parameter_vectors():\n",
    "    '''\n",
    "    This function parses e.txt and s.txt to get the  26-dimensional multinomial\n",
    "    parameter vector (characters probabilities of English and Spanish) as\n",
    "    described in section 1.2 of the writeup\n",
    "\n",
    "    Returns: tuple of vectors e and s\n",
    "    '''\n",
    "    #Implementing vectors e,s as lists (arrays) of length 26\n",
    "    #with p[0] being the probability of 'A' and so on\n",
    "    e=[0]*26\n",
    "    s=[0]*26\n",
    "\n",
    "    with open('e.txt',encoding='utf-8') as f:\n",
    "        for line in f:\n",
    "            #strip: removes the newline character\n",
    "            #split: split the string on space character\n",
    "            char,prob=line.strip().split(\" \")\n",
    "            #ord('E') gives the ASCII (integer) value of character 'E'\n",
    "            #we then subtract it from 'A' to give array index\n",
    "            #This way 'A' gets index 0 and 'Z' gets index 25.\n",
    "            e[ord(char)-ord('A')]=float(prob)\n",
    "    f.close()\n",
    "\n",
    "    with open('s.txt',encoding='utf-8') as f:\n",
    "        for line in f:\n",
    "            char,prob=line.strip().split(\" \")\n",
    "            s[ord(char)-ord('A')]=float(prob)\n",
    "    f.close()\n",
    "\n",
    "    return (e,s)"
   ]
  },
  {
   "cell_type": "code",
   "execution_count": 2,
   "outputs": [],
   "source": [
    "e,s = get_parameter_vectors()"
   ],
   "metadata": {
    "collapsed": false
   }
  },
  {
   "cell_type": "code",
   "execution_count": 3,
   "outputs": [
    {
     "data": {
      "text/plain": "[0.0834417,\n 0.0154077,\n 0.0273137,\n 0.0414207,\n 0.126063,\n 0.0203102,\n 0.0192096,\n 0.0611306,\n 0.0671336,\n 0.00230115,\n 0.00870435,\n 0.0424212,\n 0.0253127,\n 0.068034,\n 0.0770385,\n 0.0166083,\n 0.00090045,\n 0.0568284,\n 0.0611306,\n 0.0937469,\n 0.0285143,\n 0.0106053,\n 0.0234117,\n 0.002001,\n 0.0204102,\n 0.0006003]"
     },
     "execution_count": 3,
     "metadata": {},
     "output_type": "execute_result"
    }
   ],
   "source": [
    "e"
   ],
   "metadata": {
    "collapsed": false
   }
  },
  {
   "cell_type": "code",
   "execution_count": 4,
   "outputs": [
    {
     "data": {
      "text/plain": "[0.121649,\n 0.014906,\n 0.0387155,\n 0.0467187,\n 0.140856,\n 0.00690276,\n 0.010004,\n 0.0118047,\n 0.0598239,\n 0.00520208,\n 0.00110044,\n 0.052421,\n 0.0308123,\n 0.070028,\n 0.0920368,\n 0.0289116,\n 0.0111044,\n 0.0641257,\n 0.0720288,\n 0.0460184,\n 0.0469188,\n 0.0105042,\n 0.00040016,\n 0.00140056,\n 0.0109044,\n 0.00470188]"
     },
     "execution_count": 4,
     "metadata": {},
     "output_type": "execute_result"
    }
   ],
   "source": [
    "s"
   ],
   "metadata": {
    "collapsed": false
   }
  },
  {
   "cell_type": "code",
   "execution_count": 73,
   "outputs": [],
   "source": [
    "file = 'samples/letter1.txt';"
   ],
   "metadata": {
    "collapsed": false
   }
  },
  {
   "cell_type": "code",
   "execution_count": 74,
   "outputs": [],
   "source": [
    "def shred(filename):\n",
    "    #Using a dictionary here. You may change this to any data structure of\n",
    "    #your choice such as lists (X=[]) etc. for the assignment\n",
    "    letter_count_dictionary = dict()\n",
    "    with open (filename, encoding='utf-8') as f:\n",
    "        for line in f:\n",
    "            for character in line:\n",
    "                uppercase_char = character.upper()\n",
    "                ascii_val = ord(uppercase_char)\n",
    "                if 90 >= ascii_val >= 65:\n",
    "                    if uppercase_char in letter_dictionary.keys():\n",
    "                        letter_count_dictionary[uppercase_char] += 1\n",
    "                    else:\n",
    "                        letter_count_dictionary[uppercase_char] = 1\n",
    "    return letter_count_dictionary\n",
    "\n",
    "# Shred file -- counts the number of characters in each file\n",
    "# Store it as dictionary"
   ],
   "metadata": {
    "collapsed": false
   }
  },
  {
   "cell_type": "code",
   "execution_count": 75,
   "outputs": [
    {
     "data": {
      "text/plain": "{'D': 13,\n 'O': 11,\n 'S': 12,\n 'R': 4,\n 'U': 13,\n 'G': 7,\n 'I': 8,\n 'T': 1,\n 'A': 25,\n 'E': 12,\n 'N': 17,\n 'M': 9,\n 'P': 1,\n 'C': 5,\n 'H': 2,\n 'Y': 4,\n 'L': 2,\n 'B': 5,\n 'V': 2,\n 'Q': 2}"
     },
     "execution_count": 75,
     "metadata": {},
     "output_type": "execute_result"
    }
   ],
   "source": [
    "shred(file)"
   ],
   "metadata": {
    "collapsed": false
   }
  },
  {
   "cell_type": "code",
   "execution_count": 76,
   "outputs": [],
   "source": [
    "def get_parameter_vectors():\n",
    "    '''\n",
    "    This function parses e.txt and s.txt to get the  26-dimensional multinomial\n",
    "    parameter vector (characters probabilities of English and Spanish) as\n",
    "    described in section 1.2 of the writeup\n",
    "\n",
    "    Returns: tuple of vectors e and s\n",
    "    '''\n",
    "    #Implementing vectors e,s as lists (arrays) of length 26\n",
    "    #with p[0] being the probability of 'A' and so on\n",
    "    e=[0]*26\n",
    "    s=[0]*26\n",
    "\n",
    "    with open('e.txt',encoding='utf-8') as f:\n",
    "        for line in f:\n",
    "            #strip: removes the newline character\n",
    "            #split: split the string on space character\n",
    "            char,prob=line.strip().split(\" \")\n",
    "            #ord('E') gives the ASCII (integer) value of character 'E'\n",
    "            #we then subtract it from 'A' to give array index\n",
    "            #This way 'A' gets index 0 and 'Z' gets index 25.\n",
    "            e[ord(char)-ord('A')]=float(prob)\n",
    "    f.close()\n",
    "\n",
    "    with open('s.txt',encoding='utf-8') as f:\n",
    "        for line in f:\n",
    "            char,prob=line.strip().split(\" \")\n",
    "            s[ord(char)-ord('A')]=float(prob)\n",
    "    f.close()\n",
    "\n",
    "    return (e,s)"
   ],
   "metadata": {
    "collapsed": false
   }
  },
  {
   "cell_type": "code",
   "execution_count": 105,
   "outputs": [],
   "source": [
    "import math\n",
    "def x_log_lang(letter, file):\n",
    "    letter_to_index = {\n",
    "        'A': 0,\n",
    "        'B': 1,\n",
    "        'C': 2,\n",
    "        'D': 3,\n",
    "        'E': 4,\n",
    "        'F': 5,\n",
    "        'G': 6,\n",
    "        'H': 7,\n",
    "        'I': 8,\n",
    "        'J': 9,\n",
    "        'K': 10,\n",
    "        'L': 11,\n",
    "        'M': 12,\n",
    "        'N': 13,\n",
    "        '0': 14,\n",
    "        'P': 15,\n",
    "        'Q': 16,\n",
    "        'R': 17,\n",
    "        'S': 18,\n",
    "        'T': 19,\n",
    "        'U': 20,\n",
    "        'V': 21,\n",
    "        'W': 22,\n",
    "        'X': 23,\n",
    "        'Y': 24,\n",
    "        'Z': 25\n",
    "    }\n",
    "\n",
    "    # Get parameters returns a list, not a dictionary\n",
    "    letter_count_dictionary = shred(file)\n",
    "    x_english_list, x_spanish_list = get_parameter_vectors()\n",
    "    list_index = letter_to_index[letter]\n",
    "\n",
    "    if letter in letter_count_dictionary.keys():\n",
    "        # X_1 * log(e_1)\n",
    "        english_prob = round(letter_count_dictionary[letter] * math.log(x_english_list[list_index]), 4)\n",
    "        # X_1 * log(s_1)\n",
    "        spanish_prob = round(letter_count_dictionary[letter] * math.log(x_spanish_list[list_index]), 4)\n",
    "        return english_prob, spanish_prob\n",
    "\n",
    "    else:\n",
    "        return 0.0000, 0.0000"
   ],
   "metadata": {
    "collapsed": false
   }
  },
  {
   "cell_type": "code",
   "execution_count": 106,
   "outputs": [
    {
     "data": {
      "text/plain": "(-18.0018, -16.2576)"
     },
     "execution_count": 106,
     "metadata": {},
     "output_type": "execute_result"
    }
   ],
   "source": [
    "x_log_lang('C', 'samples/letter1.txt')"
   ],
   "metadata": {
    "collapsed": false
   }
  },
  {
   "cell_type": "code",
   "execution_count": 118,
   "outputs": [],
   "source": [
    "def function_y(language, file):\n",
    "    all_letters = [\n",
    "        'A', 'B', 'C', 'D', 'E', 'F', 'G', 'H', 'I', 'J', 'K', 'L', 'M', 'N', '0', 'P', 'Q', 'R', 'S', 'T', 'U', 'V', 'W', 'X', 'Y', 'Z'\n",
    "    ]\n",
    "    sum_letter_probs = 0\n",
    "    if language == 'english':\n",
    "        for letter in all_letters:\n",
    "            english_prob, _ = x_log_lang(letter, file)\n",
    "            sum_letter_probs += english_prob\n",
    "        p_english = 0.6\n",
    "        return round(math.log(p_english) + sum_letter_probs, 4)\n",
    "\n",
    "    elif language == 'spanish':\n",
    "        for letter in all_letters:\n",
    "            _, spanish_prob = x_log_lang(letter, file)\n",
    "            sum_letter_probs += spanish_prob\n",
    "        p_spanish = 0.4\n",
    "        return round(math.log(p_spanish) + sum_letter_probs, 4)"
   ],
   "metadata": {
    "collapsed": false
   }
  },
  {
   "cell_type": "code",
   "execution_count": 119,
   "outputs": [
    {
     "data": {
      "text/plain": "-425.4119"
     },
     "execution_count": 119,
     "metadata": {},
     "output_type": "execute_result"
    }
   ],
   "source": [
    "function_y('spanish', 'samples/letter1.txt')"
   ],
   "metadata": {
    "collapsed": false
   }
  },
  {
   "cell_type": "code",
   "execution_count": 122,
   "outputs": [],
   "source": [
    "def p_lang_given_x(file):\n",
    "    f_spanish = function_y('spanish', file)\n",
    "    f_english = function_y('english', file)\n",
    "\n",
    "    if f_spanish - f_english >= 100:\n",
    "        p_english_given_x = 0\n",
    "    elif f_spanish - f_english <= -100:\n",
    "        p_english_given_x = 1\n",
    "    else:\n",
    "        p_english_given_x = 1/(1 + math.exp(f_spanish - f_english))\n",
    "    return round(p_english_given_x, 4)"
   ],
   "metadata": {
    "collapsed": false
   }
  },
  {
   "cell_type": "code",
   "execution_count": 132,
   "outputs": [
    {
     "data": {
      "text/plain": "0.0"
     },
     "execution_count": 132,
     "metadata": {},
     "output_type": "execute_result"
    }
   ],
   "source": [
    "fileName = 'letter.txt'\n",
    "fileName = 'samples/letter1.txt'\n",
    "p_lang_given_x(fileName)"
   ],
   "metadata": {
    "collapsed": false
   }
  },
  {
   "cell_type": "code",
   "execution_count": 134,
   "outputs": [
    {
     "name": "stdout",
     "output_type": "stream",
     "text": [
      "Q1/n\n",
      "A   1\n",
      "B   0\n",
      "C   0\n",
      "D   0\n",
      "E   0\n",
      "F   0\n",
      "G   0\n",
      "H   0\n",
      "I   0\n",
      "J   0\n",
      "K   0\n",
      "L   0\n",
      "M   0\n",
      "N   0\n",
      "0   0\n",
      "P   0\n",
      "Q   0\n",
      "R   0\n",
      "S   0\n",
      "T   0\n",
      "U   0\n",
      "V   0\n",
      "W   0\n",
      "X   0\n",
      "Y   0\n",
      "Z   0\n"
     ]
    }
   ],
   "source": [
    "fileName = 'samples/letter0.txt'\n",
    "\n",
    "# Q1\n",
    "all_letters = [\n",
    "    'A', 'B', 'C', 'D', 'E', 'F', 'G', 'H', 'I', 'J', 'K', 'L', 'M', 'N', '0', 'P', 'Q', 'R', 'S', 'T', 'U', 'V',\n",
    "    'W', 'X', 'Y', 'Z'\n",
    "]\n",
    "print('Q1')\n",
    "letter_count_dictionary = shred(fileName)\n",
    "for letter in all_letters:\n",
    "    if letter in letter_count_dictionary.keys():\n",
    "        count = letter_count_dictionary[letter]\n",
    "    else:\n",
    "        count = 0\n",
    "    print(letter, ' ', count)"
   ],
   "metadata": {
    "collapsed": false
   }
  },
  {
   "cell_type": "code",
   "execution_count": 140,
   "outputs": [
    {
     "name": "stdout",
     "output_type": "stream",
     "text": [
      "-2.4836\n",
      "-2.1066\n"
     ]
    }
   ],
   "source": [
    "# Q2\n",
    "question_letter = 'A'\n",
    "output = x_log_lang(question_letter, fileName)\n",
    "print(round(output[0], 4))\n",
    "print(round(output[1], 4))"
   ],
   "metadata": {
    "collapsed": false
   }
  },
  {
   "cell_type": "code",
   "execution_count": 141,
   "outputs": [
    {
     "name": "stdout",
     "output_type": "stream",
     "text": [
      "Q3\n",
      "-2.9944\n",
      "-3.0229\n"
     ]
    }
   ],
   "source": [
    "# Q3\n",
    "print('Q3')\n",
    "f_english = function_y('english', fileName)\n",
    "print(f_english)\n",
    "f_spanish = function_y('spanish', fileName)\n",
    "print(f_spanish)"
   ],
   "metadata": {
    "collapsed": false
   }
  },
  {
   "cell_type": "code",
   "execution_count": 142,
   "outputs": [
    {
     "name": "stdout",
     "output_type": "stream",
     "text": [
      "Q4\n",
      "0.5071\n"
     ]
    }
   ],
   "source": [
    "# Q4\n",
    "print('Q4')\n",
    "print(p_lang_given_x(fileName))"
   ],
   "metadata": {
    "collapsed": false
   }
  },
  {
   "cell_type": "code",
   "execution_count": 1,
   "outputs": [
    {
     "name": "stdout",
     "output_type": "stream",
     "text": [
      "1 2\n"
     ]
    }
   ],
   "source": [
    "print(1, 2)"
   ],
   "metadata": {
    "collapsed": false
   }
  },
  {
   "cell_type": "code",
   "execution_count": 3,
   "outputs": [
    {
     "name": "stdout",
     "output_type": "stream",
     "text": [
      "-0.0\n"
     ]
    }
   ],
   "source": [
    "print(-0.0000)"
   ],
   "metadata": {
    "collapsed": false
   }
  },
  {
   "cell_type": "code",
   "execution_count": null,
   "outputs": [],
   "source": [],
   "metadata": {
    "collapsed": false
   }
  }
 ],
 "metadata": {
  "kernelspec": {
   "display_name": "Python 3",
   "language": "python",
   "name": "python3"
  },
  "language_info": {
   "codemirror_mode": {
    "name": "ipython",
    "version": 2
   },
   "file_extension": ".py",
   "mimetype": "text/x-python",
   "name": "python",
   "nbconvert_exporter": "python",
   "pygments_lexer": "ipython2",
   "version": "2.7.6"
  }
 },
 "nbformat": 4,
 "nbformat_minor": 0
}
