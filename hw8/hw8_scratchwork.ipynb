{
 "cells": [
  {
   "cell_type": "code",
   "execution_count": 12,
   "outputs": [],
   "source": [
    "index_dictionary = {0 : (1, 1), 1: (1, 2), 2: (1, 3), 3: (2, 1), 4: (2, 2), 5: (2, 3), 6: (3, 1), 7: (3, 2), 8: (3, 3)}"
   ],
   "metadata": {
    "collapsed": false
   }
  },
  {
   "cell_type": "code",
   "execution_count": 21,
   "outputs": [],
   "source": [
    "#to_state=[1, 2, 3, 4, 5, 6, 7, 0, 0]\n",
    "to_state=[2, 1, 3, 4, 5, 6, 7, 0, 0]"
   ],
   "metadata": {
    "collapsed": false
   }
  },
  {
   "cell_type": "code",
   "execution_count": 22,
   "outputs": [],
   "source": [
    "from_state = [2,5,1,4,3,6,7,0,0]\n",
    "#from_state = [4, 6, 7, 2, 1, 3, 5, 0, 0]"
   ],
   "metadata": {
    "collapsed": false
   }
  },
  {
   "cell_type": "code",
   "execution_count": 23,
   "outputs": [
    {
     "data": {
      "text/plain": "4"
     },
     "execution_count": 23,
     "metadata": {},
     "output_type": "execute_result"
    }
   ],
   "source": [
    "manhattan_distance = 0\n",
    "for i_from_tile in range(len(from_state)):\n",
    "    curr_from_tile = from_state[i_from_tile]\n",
    "    if curr_from_tile != 0:\n",
    "        for i_to_tile in range(len(to_state)):\n",
    "            curr_to_tile = to_state[i_to_tile]\n",
    "            if curr_to_tile == curr_from_tile:\n",
    "                from_position = index_dictionary[i_from_tile]\n",
    "                to_position = index_dictionary[i_to_tile]\n",
    "                x_diff = abs(from_position[0] - to_position[0])\n",
    "                y_diff = abs(from_position[1] - to_position[1])\n",
    "                manhattan_distance += x_diff + y_diff\n",
    "manhattan_distance"
   ],
   "metadata": {
    "collapsed": false
   }
  },
  {
   "cell_type": "code",
   "execution_count": 24,
   "outputs": [],
   "source": [
    "## Printing Successors"
   ],
   "metadata": {
    "collapsed": false
   }
  },
  {
   "cell_type": "code",
   "execution_count": 25,
   "outputs": [],
   "source": [
    "state = [1, 2, 3, 4, 5, 6, 7, 0, 0]\n"
   ],
   "metadata": {
    "collapsed": false
   }
  },
  {
   "cell_type": "code",
   "execution_count": 1,
   "outputs": [],
   "source": [
    "x = [(1, 1), (1, 2), (1, 3), (1, 2)]"
   ],
   "metadata": {
    "collapsed": false
   }
  },
  {
   "cell_type": "code",
   "execution_count": 2,
   "outputs": [
    {
     "data": {
      "text/plain": "{(1, 1), (1, 2), (1, 3)}"
     },
     "execution_count": 2,
     "metadata": {},
     "output_type": "execute_result"
    }
   ],
   "source": [
    "y = set(x)\n",
    "y"
   ],
   "metadata": {
    "collapsed": false
   }
  },
  {
   "cell_type": "code",
   "execution_count": 4,
   "outputs": [
    {
     "data": {
      "text/plain": "[(1, 1), (1, 2), (1, 3)]"
     },
     "execution_count": 4,
     "metadata": {},
     "output_type": "execute_result"
    }
   ],
   "source": [
    "z = (list(y))\n",
    "z"
   ],
   "metadata": {
    "collapsed": false
   }
  },
  {
   "cell_type": "code",
   "execution_count": 6,
   "outputs": [],
   "source": [
    "index_dictionary = {0: [1, 1], 1: [1, 2], 2: [1, 3], 3: [2, 1], 4: [2, 2], 5: [2, 3], 6: [3, 1], 7: [3, 2],\n",
    "                    8: [3, 3]}"
   ],
   "metadata": {
    "collapsed": false
   }
  },
  {
   "cell_type": "code",
   "execution_count": 7,
   "outputs": [
    {
     "data": {
      "text/plain": "False"
     },
     "execution_count": 7,
     "metadata": {},
     "output_type": "execute_result"
    }
   ],
   "source": [
    "[4, 2] in index_dictionary.values()"
   ],
   "metadata": {
    "collapsed": false
   }
  },
  {
   "cell_type": "code",
   "execution_count": 8,
   "outputs": [
    {
     "data": {
      "text/plain": "True"
     },
     "execution_count": 8,
     "metadata": {},
     "output_type": "execute_result"
    }
   ],
   "source": [
    "[3, 2] in index_dictionary.values()"
   ],
   "metadata": {
    "collapsed": false
   }
  },
  {
   "cell_type": "code",
   "execution_count": 14,
   "outputs": [],
   "source": [
    "state = [2, 5, 1, 4, 0, 6, 7, 0, 3]\n",
    "index_dictionary = {0: [1, 1], 1: [1, 2], 2: [1, 3], 3: [2, 1], 4: [2, 2], 5: [2, 3], 6: [3, 1], 7: [3, 2],\n",
    "                    8: [3, 3]}\n",
    "# Step 1: Get all 0 positions\n",
    "zero_position_list = list()\n",
    "zero_indices = list()\n",
    "for i_state in range(len(state)):\n",
    "    if state[i_state] == 0:\n",
    "        zero_position_list.append(index_dictionary[i_state])\n",
    "        zero_indices.append(i_state)"
   ],
   "metadata": {
    "collapsed": false
   }
  },
  {
   "cell_type": "code",
   "execution_count": 15,
   "outputs": [
    {
     "name": "stdout",
     "output_type": "stream",
     "text": [
      "[[2, 2], [3, 2]]\n",
      "[4, 7]\n"
     ]
    }
   ],
   "source": [
    "print(zero_position_list)\n",
    "print(zero_indices)"
   ],
   "metadata": {
    "collapsed": false
   }
  },
  {
   "cell_type": "code",
   "execution_count": 18,
   "outputs": [],
   "source": [
    "import copy"
   ],
   "metadata": {
    "collapsed": false
   }
  },
  {
   "cell_type": "code",
   "execution_count": 19,
   "outputs": [
    {
     "name": "stdout",
     "output_type": "stream",
     "text": [
      "zero positions:  [[2, 2], [3, 2]]\n",
      "{0: [1, 1], 1: [1, 2], 2: [1, 3], 3: [2, 1], 4: [2, 2], 5: [2, 3], 6: [3, 1], 7: [3, 2], 8: [3, 3]}\n",
      "{0: [1, 1], 1: [1, 2], 2: [1, 3], 3: [2, 1], 4: [2, 2], 5: [2, 3], 6: [3, 1], 7: [3, 2], 8: [3, 3]}\n",
      "{0: [1, 1], 1: [1, 2], 2: [1, 3], 3: [2, 1], 4: [2, 2], 5: [2, 3], 6: [3, 1], 7: [3, 2], 8: [3, 3]}\n",
      "{0: [1, 1], 1: [1, 2], 2: [1, 3], 3: [2, 1], 4: [2, 2], 5: [2, 3], 6: [3, 1], 7: [3, 2], 8: [3, 3]}\n"
     ]
    },
    {
     "data": {
      "text/plain": "{4: [[3, 2]], 7: []}"
     },
     "execution_count": 19,
     "metadata": {},
     "output_type": "execute_result"
    }
   ],
   "source": [
    "# Step 2: Get all unique positions of distance one from them\n",
    "# Creates a dictionary of zero index to position of adjacent tile to swap\n",
    "print(\"zero positions: \", zero_position_list)\n",
    "adjacent_positions = dict()\n",
    "\n",
    "\n",
    "for i_zero in range(len(zero_position_list)):\n",
    "    adjacent_positions[zero_indices[i_zero]] = list()\n",
    "    # x + 1\n",
    "    trial_position = copy.deepcopy(zero_position_list[i_zero])\n",
    "    trial_position[0] = trial_position[0] + 1\n",
    "    print(index_dictionary)\n",
    "    if trial_position in index_dictionary.values():\n",
    "        adjacent_positions[zero_indices[i_zero]].append(trial_position)\n",
    "    print(index_dictionary)\n",
    "adjacent_positions"
   ],
   "metadata": {
    "collapsed": false
   }
  },
  {
   "cell_type": "code",
   "execution_count": 12,
   "outputs": [
    {
     "data": {
      "text/plain": "{0: [1, 1],\n 1: [1, 2],\n 2: [1, 3],\n 3: [2, 1],\n 4: [3, 2],\n 5: [2, 3],\n 6: [3, 1],\n 7: [4, 2],\n 8: [3, 3]}"
     },
     "execution_count": 12,
     "metadata": {},
     "output_type": "execute_result"
    }
   ],
   "source": [
    "print(index_dictionary)"
   ],
   "metadata": {
    "collapsed": false
   }
  },
  {
   "cell_type": "code",
   "execution_count": 52,
   "outputs": [
    {
     "name": "stdout",
     "output_type": "stream",
     "text": [
      "[(5, ([1, 2, 3, 4], [6, 2, 4, 7]))]\n"
     ]
    }
   ],
   "source": [
    "import heapq\n",
    "pq = []\n",
    "heapq.heappush(pq,(5, ([1, 2, 3, 4], [6, 2, 4, 7])))\n",
    "print(pq)"
   ],
   "metadata": {
    "collapsed": false
   }
  },
  {
   "cell_type": "code",
   "execution_count": 53,
   "outputs": [],
   "source": [
    "a = (4, ([4, 5, 6, 7], [4, 3, 5, 1]))\n",
    "heapq.heappush(pq, a)\n",
    "c = (20, 5, (4, 3), (1, 2))\n",
    "heapq.heappush(pq, c)"
   ],
   "metadata": {
    "collapsed": false
   }
  },
  {
   "cell_type": "code",
   "execution_count": 54,
   "outputs": [
    {
     "data": {
      "text/plain": "[(4, ([4, 5, 6, 7], [4, 3, 5, 1])),\n (5, ([1, 2, 3, 4], [6, 2, 4, 7])),\n (20, 5, (4, 3), (1, 2))]"
     },
     "execution_count": 54,
     "metadata": {},
     "output_type": "execute_result"
    }
   ],
   "source": [
    "pq"
   ],
   "metadata": {
    "collapsed": false
   }
  },
  {
   "cell_type": "code",
   "execution_count": 47,
   "outputs": [
    {
     "data": {
      "text/plain": "(4, ([4, 5, 6, 7], [4, 3, 5, 1]))"
     },
     "execution_count": 47,
     "metadata": {},
     "output_type": "execute_result"
    }
   ],
   "source": [
    "pq[0]"
   ],
   "metadata": {
    "collapsed": false
   }
  },
  {
   "cell_type": "code",
   "execution_count": 48,
   "outputs": [
    {
     "data": {
      "text/plain": "4"
     },
     "execution_count": 48,
     "metadata": {},
     "output_type": "execute_result"
    }
   ],
   "source": [
    "pq[0][0]"
   ],
   "metadata": {
    "collapsed": false
   }
  },
  {
   "cell_type": "code",
   "execution_count": 49,
   "outputs": [
    {
     "data": {
      "text/plain": "(5, ([1, 2, 3, 4], [6, 2, 4, 7]))"
     },
     "execution_count": 49,
     "metadata": {},
     "output_type": "execute_result"
    }
   ],
   "source": [
    "popped = pq.pop()\n",
    "popped"
   ],
   "metadata": {
    "collapsed": false
   }
  },
  {
   "cell_type": "code",
   "execution_count": 50,
   "outputs": [
    {
     "data": {
      "text/plain": "1"
     },
     "execution_count": 50,
     "metadata": {},
     "output_type": "execute_result"
    }
   ],
   "source": [
    "len(pq)"
   ],
   "metadata": {
    "collapsed": false
   }
  },
  {
   "cell_type": "code",
   "execution_count": 51,
   "outputs": [
    {
     "data": {
      "text/plain": "0"
     },
     "execution_count": 51,
     "metadata": {},
     "output_type": "execute_result"
    }
   ],
   "source": [
    "pq.pop()\n",
    "len(pq)"
   ],
   "metadata": {
    "collapsed": false
   }
  },
  {
   "cell_type": "code",
   "execution_count": null,
   "outputs": [],
   "source": [
    "# pq is the priority queue\n",
    "# first entry is the g cost -- # of moves"
   ],
   "metadata": {
    "collapsed": false
   }
  }
 ],
 "metadata": {
  "kernelspec": {
   "display_name": "Python 3",
   "language": "python",
   "name": "python3"
  },
  "language_info": {
   "codemirror_mode": {
    "name": "ipython",
    "version": 2
   },
   "file_extension": ".py",
   "mimetype": "text/x-python",
   "name": "python",
   "nbconvert_exporter": "python",
   "pygments_lexer": "ipython2",
   "version": "2.7.6"
  }
 },
 "nbformat": 4,
 "nbformat_minor": 0
}
