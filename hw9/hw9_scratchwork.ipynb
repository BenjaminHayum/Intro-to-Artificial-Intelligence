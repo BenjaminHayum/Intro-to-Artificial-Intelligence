{
 "cells": [
  {
   "cell_type": "code",
   "execution_count": null,
   "outputs": [],
   "source": [
    "## Sucessor Function"
   ],
   "metadata": {
    "collapsed": false
   }
  },
  {
   "cell_type": "code",
   "execution_count": 18,
   "metadata": {
    "collapsed": true
   },
   "outputs": [],
   "source": [
    "import copy\n",
    "\n",
    "def succ_move(my_piece, state):\n",
    "    successors = list()\n",
    "    # First, identify the positions where our pieces are\n",
    "    for i_row in range(5):\n",
    "        for i_col in range(5):\n",
    "            if state[i_row][i_col] == my_piece:\n",
    "                # Now checking all 8 possible adjacent positions to where our piece currently is\n",
    "                print(\"Original index: \", i_row, i_col)\n",
    "                for delta_row in range(-1, 2):\n",
    "                    for delta_col in range(-1, 2):\n",
    "                        if delta_row != 0 and delta_col != 0:\n",
    "                            new_row = i_row + delta_row\n",
    "                            new_col = i_col + delta_col\n",
    "                            # First check that row and column are in range\n",
    "                            # Then that the position is open\n",
    "                            if 0 <= new_row <= 4 and 0 <= new_col <= 4 and state[new_row][new_col] == ' ':\n",
    "                                print(\"New index: \", new_row, new_col)\n",
    "                                succ = copy.deepcopy(state)\n",
    "                                succ[i_row][i_col] = ' '\n",
    "                                succ[new_row][new_col] = my_piece\n",
    "                                successors.append(succ)\n",
    "    return successors"
   ]
  },
  {
   "cell_type": "code",
   "execution_count": 19,
   "outputs": [
    {
     "name": "stdout",
     "output_type": "stream",
     "text": [
      "Original index:  0 0\n",
      "Original index:  0 1\n",
      "New index:  1 2\n",
      "Original index:  1 0\n",
      "New index:  2 1\n",
      "Original index:  4 4\n",
      "New index:  3 3\n"
     ]
    },
    {
     "data": {
      "text/plain": "[[['r', ' ', 'b', 'b', ' '],\n  ['r', 'b', 'r', ' ', ' '],\n  ['b', ' ', ' ', ' ', ' '],\n  [' ', ' ', ' ', ' ', ' '],\n  [' ', ' ', ' ', ' ', 'r']],\n [['r', 'r', 'b', 'b', ' '],\n  [' ', 'b', ' ', ' ', ' '],\n  ['b', 'r', ' ', ' ', ' '],\n  [' ', ' ', ' ', ' ', ' '],\n  [' ', ' ', ' ', ' ', 'r']],\n [['r', 'r', 'b', 'b', ' '],\n  ['r', 'b', ' ', ' ', ' '],\n  ['b', ' ', ' ', ' ', ' '],\n  [' ', ' ', ' ', 'r', ' '],\n  [' ', ' ', ' ', ' ', ' ']]]"
     },
     "execution_count": 19,
     "metadata": {},
     "output_type": "execute_result"
    }
   ],
   "source": [
    "my_piece = 'r'\n",
    "state = [['r', 'r', 'b', 'b', ' '],\n",
    "         ['r', 'b', ' ', ' ', ' '],\n",
    "         ['b', ' ', ' ', ' ', ' '],\n",
    "         [' ', ' ', ' ', ' ', ' '],\n",
    "         [' ', ' ', ' ', ' ', 'r']]\n",
    "\n",
    "succ_move(my_piece, state)"
   ],
   "metadata": {
    "collapsed": false
   }
  },
  {
   "cell_type": "code",
   "execution_count": 24,
   "outputs": [],
   "source": [
    "def succ_move(my_piece, state):\n",
    "    successors = list()\n",
    "    # First, identify the positions where our pieces are\n",
    "    i_row = 4\n",
    "    i_col = 4\n",
    "    if state[i_row][i_col] == my_piece:\n",
    "        # Now checking all 8 possible adjacent positions to where our piece currently is\n",
    "        for delta_row in range(-1, 2):\n",
    "            for delta_col in range(-1, 2):\n",
    "                if not (delta_row == 0 and delta_col == 0):\n",
    "                    print(\"Delta index: \", delta_row, delta_col)\n",
    "                    new_row = i_row + delta_row\n",
    "                    new_col = i_col + delta_col\n",
    "                    # First check that row and column are in range\n",
    "                    # Then that the position is open\n",
    "                    if 0 <= new_row <= 4 and 0 <= new_col <= 4 and state[new_row][new_col] == ' ':\n",
    "                        print(\"New index: \", new_row, new_col)\n",
    "                        succ = copy.deepcopy(state)\n",
    "                        succ[i_row][i_col] = ' '\n",
    "                        succ[new_row][new_col] = my_piece\n",
    "                        successors.append(succ)\n",
    "    return successors"
   ],
   "metadata": {
    "collapsed": false
   }
  },
  {
   "cell_type": "code",
   "execution_count": 25,
   "outputs": [
    {
     "name": "stdout",
     "output_type": "stream",
     "text": [
      "Delta index:  -1 -1\n",
      "New index:  3 3\n",
      "Delta index:  -1 0\n",
      "New index:  3 4\n",
      "Delta index:  -1 1\n",
      "Delta index:  0 -1\n",
      "New index:  4 3\n",
      "Delta index:  0 1\n",
      "Delta index:  1 -1\n",
      "Delta index:  1 0\n",
      "Delta index:  1 1\n"
     ]
    },
    {
     "data": {
      "text/plain": "[[['r', 'r', 'b', 'b', ' '],\n  ['r', 'b', ' ', ' ', ' '],\n  ['b', ' ', ' ', ' ', ' '],\n  [' ', ' ', ' ', 'r', ' '],\n  [' ', ' ', ' ', ' ', ' ']],\n [['r', 'r', 'b', 'b', ' '],\n  ['r', 'b', ' ', ' ', ' '],\n  ['b', ' ', ' ', ' ', ' '],\n  [' ', ' ', ' ', ' ', 'r'],\n  [' ', ' ', ' ', ' ', ' ']],\n [['r', 'r', 'b', 'b', ' '],\n  ['r', 'b', ' ', ' ', ' '],\n  ['b', ' ', ' ', ' ', ' '],\n  [' ', ' ', ' ', ' ', ' '],\n  [' ', ' ', ' ', 'r', ' ']]]"
     },
     "execution_count": 25,
     "metadata": {},
     "output_type": "execute_result"
    }
   ],
   "source": [
    "my_piece = 'r'\n",
    "state = [['r', 'r', 'b', 'b', ' '],\n",
    "         ['r', 'b', ' ', ' ', ' '],\n",
    "         ['b', ' ', ' ', ' ', ' '],\n",
    "         [' ', ' ', ' ', ' ', ' '],\n",
    "         [' ', ' ', ' ', ' ', 'r']]\n",
    "\n",
    "succ_move(my_piece, state)"
   ],
   "metadata": {
    "collapsed": false
   }
  },
  {
   "cell_type": "code",
   "execution_count": 30,
   "outputs": [],
   "source": [
    "def succ_drop(my_piece, state):\n",
    "    successors = list()\n",
    "    for i_row in range(5):\n",
    "        for i_col in range(5):\n",
    "            poss_succ = copy.deepcopy(state)\n",
    "            if poss_succ[i_row][i_col] == ' ':\n",
    "                poss_succ[i_row][i_col] = my_piece\n",
    "                successors.append(poss_succ)\n",
    "    return successors"
   ],
   "metadata": {
    "collapsed": false
   }
  },
  {
   "cell_type": "code",
   "execution_count": 31,
   "outputs": [
    {
     "data": {
      "text/plain": "18"
     },
     "execution_count": 31,
     "metadata": {},
     "output_type": "execute_result"
    }
   ],
   "source": [
    "my_piece = 'r'\n",
    "state = [['r', 'r', 'b', 'b', ' '],\n",
    "         ['r', 'b', ' ', ' ', ' '],\n",
    "         ['b', ' ', ' ', ' ', ' '],\n",
    "         [' ', ' ', ' ', ' ', ' '],\n",
    "         [' ', ' ', ' ', ' ', ' ']]\n",
    "\n",
    "len(succ_drop(my_piece, state))"
   ],
   "metadata": {
    "collapsed": false
   }
  },
  {
   "cell_type": "code",
   "execution_count": 1,
   "outputs": [
    {
     "ename": "IndexError",
     "evalue": "list index out of range",
     "output_type": "error",
     "traceback": [
      "\u001B[0;31m---------------------------------------------------------------------------\u001B[0m",
      "\u001B[0;31mIndexError\u001B[0m                                Traceback (most recent call last)",
      "Input \u001B[0;32mIn [1]\u001B[0m, in \u001B[0;36m<cell line: 9>\u001B[0;34m()\u001B[0m\n\u001B[1;32m     10\u001B[0m \u001B[38;5;28;01mfor\u001B[39;00m i_col \u001B[38;5;129;01min\u001B[39;00m \u001B[38;5;28mrange\u001B[39m(\u001B[38;5;241m5\u001B[39m):\n\u001B[1;32m     11\u001B[0m     \u001B[38;5;28;01mif\u001B[39;00m state[i_row][i_col] \u001B[38;5;241m==\u001B[39m my_piece:\n\u001B[0;32m---> 12\u001B[0m         \u001B[38;5;28;01mif\u001B[39;00m state[i_row][i_col] \u001B[38;5;241m==\u001B[39m \u001B[43mstate\u001B[49m\u001B[43m[\u001B[49m\u001B[43mi_row\u001B[49m\u001B[43m]\u001B[49m\u001B[43m[\u001B[49m\u001B[43mi_col\u001B[49m\u001B[38;5;241;43m+\u001B[39;49m\u001B[38;5;241;43m1\u001B[39;49m\u001B[43m]\u001B[49m \u001B[38;5;241m==\u001B[39m state[i_row][i_col\u001B[38;5;241m+\u001B[39m\u001B[38;5;241m2\u001B[39m]:\n\u001B[1;32m     13\u001B[0m             \u001B[38;5;28mprint\u001B[39m(\u001B[38;5;124m\"\u001B[39m\u001B[38;5;124mfound\u001B[39m\u001B[38;5;124m\"\u001B[39m)\n",
      "\u001B[0;31mIndexError\u001B[0m: list index out of range"
     ]
    }
   ],
   "source": [
    "## Heuristic Function\n",
    "my_piece = 'r'\n",
    "state = [['r', 'r', 'b', 'b', ' '],\n",
    "         ['r', 'b', ' ', ' ', ' '],\n",
    "         ['b', ' ', ' ', ' ', ' '],\n",
    "         [' ', ' ', ' ', ' ', ' '],\n",
    "         [' ', ' ', ' ', ' ', 'r']]\n",
    "\n",
    "for i_row in range(5):\n",
    "    for i_col in range(5):\n",
    "        if state[i_row][i_col] == my_piece:\n",
    "            if state[i_row][i_col] == state[i_row][i_col+1] == state[i_row][i_col+2]:\n",
    "                print(\"found\")"
   ],
   "metadata": {
    "collapsed": false
   }
  },
  {
   "cell_type": "code",
   "execution_count": null,
   "outputs": [],
   "source": [],
   "metadata": {
    "collapsed": false
   }
  }
 ],
 "metadata": {
  "kernelspec": {
   "display_name": "Python 3",
   "language": "python",
   "name": "python3"
  },
  "language_info": {
   "codemirror_mode": {
    "name": "ipython",
    "version": 2
   },
   "file_extension": ".py",
   "mimetype": "text/x-python",
   "name": "python",
   "nbconvert_exporter": "python",
   "pygments_lexer": "ipython2",
   "version": "2.7.6"
  }
 },
 "nbformat": 4,
 "nbformat_minor": 0
}
