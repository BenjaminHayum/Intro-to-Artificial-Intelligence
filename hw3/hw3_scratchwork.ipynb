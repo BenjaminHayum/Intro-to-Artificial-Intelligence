{
 "cells": [
  {
   "cell_type": "code",
   "execution_count": 2,
   "metadata": {
    "collapsed": true
   },
   "outputs": [],
   "source": [
    "from scipy.linalg import eigh\n",
    "import numpy as np\n",
    "import matplotlib.pyplot as plt"
   ]
  },
  {
   "cell_type": "code",
   "execution_count": 3,
   "outputs": [],
   "source": [
    "## Part 1"
   ],
   "metadata": {
    "collapsed": false
   }
  },
  {
   "cell_type": "code",
   "execution_count": 4,
   "outputs": [
    {
     "data": {
      "text/plain": "array([[ 82,  81,  72, ...,  35,  33,  22],\n       [ 86,  86,  74, ...,  20,  14,   9],\n       [ 76,  88,  80, ...,   9,   6,   6],\n       ...,\n       [  3,   3,   3, ..., 200, 202, 192],\n       [  3,   3,   3, ..., 253, 255, 250],\n       [  5,   3,   4, ..., 174, 175, 179]], dtype=uint8)"
     },
     "execution_count": 4,
     "metadata": {},
     "output_type": "execute_result"
    }
   ],
   "source": [
    "all_images = np.load('YaleB_32x32.npy')\n",
    "all_images"
   ],
   "metadata": {
    "collapsed": false
   }
  },
  {
   "cell_type": "code",
   "execution_count": 5,
   "outputs": [],
   "source": [
    "# Take the mean of each position pixel across all images\n",
    "\n",
    "# Each row is a new image, each column is a pixel\n",
    "array_avg = np.mean(all_images, axis = 0)\n",
    "centered_images = all_images - array_avg"
   ],
   "metadata": {
    "collapsed": false
   }
  },
  {
   "cell_type": "code",
   "execution_count": 6,
   "outputs": [
    {
     "data": {
      "text/plain": "array([[ 19.63628832,  18.53935377,  14.47183099, ..., -17.13877382,\n        -17.26429163, -27.28293289],\n       [ 23.63628832,  23.53935377,  16.47183099, ..., -32.13877382,\n        -36.26429163, -40.28293289],\n       [ 13.63628832,  25.53935377,  22.47183099, ..., -43.13877382,\n        -44.26429163, -43.28293289],\n       ...,\n       [-59.36371168, -59.46064623, -54.52816901, ..., 147.86122618,\n        151.73570837, 142.71706711],\n       [-59.36371168, -59.46064623, -54.52816901, ..., 200.86122618,\n        204.73570837, 200.71706711],\n       [-57.36371168, -59.46064623, -53.52816901, ..., 121.86122618,\n        124.73570837, 129.71706711]])"
     },
     "execution_count": 6,
     "metadata": {},
     "output_type": "execute_result"
    }
   ],
   "source": [
    "centered_images"
   ],
   "metadata": {
    "collapsed": false
   }
  },
  {
   "cell_type": "code",
   "execution_count": 7,
   "outputs": [
    {
     "data": {
      "text/plain": "2414"
     },
     "execution_count": 7,
     "metadata": {},
     "output_type": "execute_result"
    }
   ],
   "source": [
    "len(centered_images)"
   ],
   "metadata": {
    "collapsed": false
   }
  },
  {
   "cell_type": "code",
   "execution_count": 8,
   "outputs": [
    {
     "data": {
      "text/plain": "1024"
     },
     "execution_count": 8,
     "metadata": {},
     "output_type": "execute_result"
    }
   ],
   "source": [
    "len(centered_images[0])"
   ],
   "metadata": {
    "collapsed": false
   }
  },
  {
   "cell_type": "code",
   "execution_count": 9,
   "outputs": [
    {
     "data": {
      "text/plain": "-8.315174931741023e-17"
     },
     "execution_count": 9,
     "metadata": {},
     "output_type": "execute_result"
    }
   ],
   "source": [
    "np.average(centered_images)"
   ],
   "metadata": {
    "collapsed": false
   }
  },
  {
   "cell_type": "code",
   "execution_count": 10,
   "outputs": [],
   "source": [
    "## Part 2"
   ],
   "metadata": {
    "collapsed": false
   }
  },
  {
   "cell_type": "code",
   "execution_count": 11,
   "outputs": [],
   "source": [
    "summed_output_matrix = np.dot(centered_images[0].reshape(-1, 1), centered_images[0].reshape(1, -1))\n",
    "for i in range(len(centered_images)):\n",
    "    if i == 0:\n",
    "        continue\n",
    "    curr_image = centered_images[i]\n",
    "    outer_product = np.dot(curr_image.reshape(-1, 1), curr_image.reshape(1, -1))\n",
    "    summed_output_matrix = summed_output_matrix + outer_product\n",
    "summed_output_matrix = summed_output_matrix/(len(centered_images) - 1)"
   ],
   "metadata": {
    "collapsed": false
   }
  },
  {
   "cell_type": "code",
   "execution_count": 12,
   "outputs": [
    {
     "data": {
      "text/plain": "array([[ 4489.89086662,  4389.34792897,  3995.10495964, ...,\n        -1746.30867941, -1717.96935269, -1747.38102573],\n       [ 4389.34792897,  4494.33226746,  4121.91863906, ...,\n        -1806.20485557, -1776.84081736, -1794.5663578 ],\n       [ 3995.10495964,  4121.91863906,  4165.45776399, ...,\n        -1715.27680755, -1671.3253095 , -1691.55397407],\n       ...,\n       [-1746.30867941, -1806.20485557, -1715.27680755, ...,\n         3756.33920877,  3586.66741082,  3219.28148259],\n       [-1717.96935269, -1776.84081736, -1671.3253095 , ...,\n         3586.66741082,  3596.68436881,  3292.45606665],\n       [-1747.38102573, -1794.5663578 , -1691.55397407, ...,\n         3219.28148259,  3292.45606665,  3497.1660824 ]])"
     },
     "execution_count": 12,
     "metadata": {},
     "output_type": "execute_result"
    }
   ],
   "source": [
    "summed_output_matrix"
   ],
   "metadata": {
    "collapsed": false
   }
  },
  {
   "cell_type": "code",
   "execution_count": 13,
   "outputs": [],
   "source": [
    "## Part 3"
   ],
   "metadata": {
    "collapsed": false
   }
  },
  {
   "cell_type": "code",
   "execution_count": 39,
   "outputs": [
    {
     "data": {
      "text/plain": "1024"
     },
     "execution_count": 39,
     "metadata": {},
     "output_type": "execute_result"
    }
   ],
   "source": [
    "len(summed_output_matrix)"
   ],
   "metadata": {
    "collapsed": false
   }
  },
  {
   "cell_type": "code",
   "execution_count": 40,
   "outputs": [],
   "source": [
    "m = 5"
   ],
   "metadata": {
    "collapsed": false
   }
  },
  {
   "cell_type": "code",
   "execution_count": 52,
   "outputs": [],
   "source": [
    "eig_vals, eig_vectors = eigh(summed_output_matrix, subset_by_index=[len(summed_output_matrix)-m, len(summed_output_matrix)-1] )"
   ],
   "metadata": {
    "collapsed": false
   }
  },
  {
   "cell_type": "code",
   "execution_count": 53,
   "outputs": [
    {
     "data": {
      "text/plain": "array([  58387.52148629,  107646.056463  ,  185353.02904613,\n       1341168.50476773, 1369142.41612494])"
     },
     "execution_count": 53,
     "metadata": {},
     "output_type": "execute_result"
    }
   ],
   "source": [
    "eig_vals"
   ],
   "metadata": {
    "collapsed": false
   }
  },
  {
   "cell_type": "code",
   "execution_count": 54,
   "outputs": [
    {
     "data": {
      "text/plain": "array([[1369142.41612494,       0.        ,       0.        ,\n              0.        ,       0.        ],\n       [      0.        , 1341168.50476773,       0.        ,\n              0.        ,       0.        ],\n       [      0.        ,       0.        ,  185353.02904613,\n              0.        ,       0.        ],\n       [      0.        ,       0.        ,       0.        ,\n         107646.056463  ,       0.        ],\n       [      0.        ,       0.        ,       0.        ,\n              0.        ,   58387.52148629]])"
     },
     "execution_count": 54,
     "metadata": {},
     "output_type": "execute_result"
    }
   ],
   "source": [
    "eig_order = np.flip(np.argsort(eig_vals))\n",
    "\n",
    "eig_val_diag_matrix = np.zeros((len(eig_vals), len(eig_vals)))\n",
    "for i in range(len(eig_vals)):\n",
    "    eig_val_diag_matrix[i, i] = eig_vals[eig_order[i]]\n",
    "eig_val_diag_matrix"
   ],
   "metadata": {
    "collapsed": false
   }
  },
  {
   "cell_type": "code",
   "execution_count": 55,
   "outputs": [
    {
     "data": {
      "text/plain": "array([[-0.03957595, -0.07531788, -0.0129248 , -0.0432441 , -0.01304065],\n       [-0.04086892, -0.07464607, -0.00978305, -0.04342345, -0.01177219],\n       [-0.04420113, -0.07466892, -0.00669355, -0.04095089, -0.00905278],\n       ...,\n       [ 0.06005543, -0.05122133, -0.0465019 ,  0.03622013,  0.00148631],\n       [ 0.05926712, -0.04764221, -0.04469105,  0.0348093 ,  0.00205216],\n       [ 0.05968122, -0.04294845, -0.04219806,  0.03330786,  0.00305951]])"
     },
     "execution_count": 55,
     "metadata": {},
     "output_type": "execute_result"
    }
   ],
   "source": [
    "eig_vectors"
   ],
   "metadata": {
    "collapsed": false
   }
  },
  {
   "cell_type": "code",
   "execution_count": 56,
   "outputs": [
    {
     "data": {
      "text/plain": "array([[-0.01304065, -0.0432441 , -0.0129248 , -0.07531788, -0.03957595],\n       [-0.01177219, -0.04342345, -0.00978305, -0.07464607, -0.04086892],\n       [-0.00905278, -0.04095089, -0.00669355, -0.07466892, -0.04420113],\n       ...,\n       [ 0.00148631,  0.03622013, -0.0465019 , -0.05122133,  0.06005543],\n       [ 0.00205216,  0.0348093 , -0.04469105, -0.04764221,  0.05926712],\n       [ 0.00305951,  0.03330786, -0.04219806, -0.04294845,  0.05968122]])"
     },
     "execution_count": 56,
     "metadata": {},
     "output_type": "execute_result"
    }
   ],
   "source": [
    "import copy\n",
    "temp_eig_vectors = copy.deepcopy(eig_vectors)\n",
    "for i in range(len(eig_vals)):\n",
    "    eig_vectors[:, i] = temp_eig_vectors[:, eig_order[i]]\n",
    "eig_vectors"
   ],
   "metadata": {
    "collapsed": false
   }
  },
  {
   "cell_type": "code",
   "execution_count": 20,
   "outputs": [],
   "source": [
    "## Part 4"
   ],
   "metadata": {
    "collapsed": false
   }
  },
  {
   "cell_type": "code",
   "execution_count": 21,
   "outputs": [],
   "source": [
    "all_eig_vals, _ = eigh(summed_output_matrix)"
   ],
   "metadata": {
    "collapsed": false
   }
  },
  {
   "cell_type": "code",
   "execution_count": 22,
   "outputs": [],
   "source": [
    "proportion = .07\n",
    "lowerBound = proportion*sum(all_eig_vals)\n",
    "upperBound = max(all_eig_vals)"
   ],
   "metadata": {
    "collapsed": false
   }
  },
  {
   "cell_type": "code",
   "execution_count": 23,
   "outputs": [],
   "source": [
    "eig_vals, eig_vectors = eigh(summed_output_matrix, subset_by_value = [lowerBound, upperBound])"
   ],
   "metadata": {
    "collapsed": false
   }
  },
  {
   "cell_type": "code",
   "execution_count": 24,
   "outputs": [
    {
     "data": {
      "text/plain": "array([1341168.50476773, 1369142.41612494])"
     },
     "execution_count": 24,
     "metadata": {},
     "output_type": "execute_result"
    }
   ],
   "source": [
    "eig_vals"
   ],
   "metadata": {
    "collapsed": false
   }
  },
  {
   "cell_type": "code",
   "execution_count": 25,
   "outputs": [
    {
     "data": {
      "text/plain": "array([1.31441582e+00, 1.36978864e+00, 1.40898068e+00, ...,\n       1.85353029e+05, 1.34116850e+06, 1.36914242e+06])"
     },
     "execution_count": 25,
     "metadata": {},
     "output_type": "execute_result"
    }
   ],
   "source": [
    "all_eig_vals"
   ],
   "metadata": {
    "collapsed": false
   }
  },
  {
   "cell_type": "code",
   "execution_count": 26,
   "outputs": [
    {
     "data": {
      "text/plain": "266625.5947565419"
     },
     "execution_count": 26,
     "metadata": {},
     "output_type": "execute_result"
    }
   ],
   "source": [
    "lowerBound"
   ],
   "metadata": {
    "collapsed": false
   }
  },
  {
   "cell_type": "code",
   "execution_count": 27,
   "outputs": [],
   "source": [
    "## Part 5"
   ],
   "metadata": {
    "collapsed": false
   }
  },
  {
   "cell_type": "code",
   "execution_count": 28,
   "outputs": [],
   "source": [
    "# Project image works image by image\n",
    "image = centered_images[0]\n",
    "eig_vectors = eig_vectors"
   ],
   "metadata": {
    "collapsed": false
   }
  },
  {
   "cell_type": "code",
   "execution_count": 29,
   "outputs": [
    {
     "data": {
      "text/plain": "(1024,)"
     },
     "execution_count": 29,
     "metadata": {},
     "output_type": "execute_result"
    }
   ],
   "source": [
    "first_eig_vec = eig_vectors[:, 0]\n",
    "np.shape(first_eig_vec)"
   ],
   "metadata": {
    "collapsed": false
   }
  },
  {
   "cell_type": "code",
   "execution_count": 30,
   "outputs": [
    {
     "data": {
      "text/plain": "(1024,)"
     },
     "execution_count": 30,
     "metadata": {},
     "output_type": "execute_result"
    }
   ],
   "source": [
    "np.shape(image)"
   ],
   "metadata": {
    "collapsed": false
   }
  },
  {
   "cell_type": "code",
   "execution_count": 31,
   "outputs": [
    {
     "data": {
      "text/plain": "array([[304.80254429]])"
     },
     "execution_count": 31,
     "metadata": {},
     "output_type": "execute_result"
    }
   ],
   "source": [
    "weight = np.dot(first_eig_vec.reshape(1, -1), image.reshape(-1, 1))\n",
    "weight"
   ],
   "metadata": {
    "collapsed": false
   }
  },
  {
   "cell_type": "code",
   "execution_count": 32,
   "outputs": [],
   "source": [
    "image_pca = first_eig_vec*weight"
   ],
   "metadata": {
    "collapsed": false
   }
  },
  {
   "cell_type": "code",
   "execution_count": 33,
   "outputs": [
    {
     "data": {
      "text/plain": "array([[-13.1809124 , -13.23557652, -12.48193428, ...,  11.03998893,\n         10.6099647 ,  10.15232162]])"
     },
     "execution_count": 33,
     "metadata": {},
     "output_type": "execute_result"
    }
   ],
   "source": [
    "image_pca"
   ],
   "metadata": {
    "collapsed": false
   }
  },
  {
   "cell_type": "code",
   "execution_count": 34,
   "outputs": [
    {
     "data": {
      "text/plain": "array([[6.84122225],\n       [4.83901287],\n       [1.41736694],\n       ...,\n       [8.75796534],\n       [7.45916035],\n       [5.4548656 ]])"
     },
     "execution_count": 34,
     "metadata": {},
     "output_type": "execute_result"
    }
   ],
   "source": [
    "# overall For loop for part 5\n",
    "image = image\n",
    "eig_vectors = eig_vectors\n",
    "num_projected_dimensions = np.shape(eig_vectors)[1]\n",
    "\n",
    "summed_image_pca = np.zeros((np.shape(eig_vectors)[0], 1) )\n",
    "for j in range(num_projected_dimensions):\n",
    "    curr_eig_vector = eig_vectors[:, j]\n",
    "    weight = np.dot(curr_eig_vector.reshape(1, -1), image.reshape(-1, 1))\n",
    "    curr_image_pca = weight*(curr_eig_vector.reshape(-1, 1))\n",
    "    summed_image_pca += curr_image_pca\n",
    "\n",
    "summed_image_pca"
   ],
   "metadata": {
    "collapsed": false
   }
  },
  {
   "cell_type": "code",
   "execution_count": 35,
   "outputs": [],
   "source": [
    "## Part 6"
   ],
   "metadata": {
    "collapsed": false
   }
  },
  {
   "cell_type": "code",
   "execution_count": 36,
   "outputs": [
    {
     "data": {
      "text/plain": "<Figure size 432x288 with 4 Axes>",
      "image/png": "[encoded data removed]"
     },
     "metadata": {
      "needs_background": "light"
     },
     "output_type": "display_data"
    }
   ],
   "source": [
    "image = image.reshape(32, 32)\n",
    "projected_image = summed_image_pca.reshape(32, 32)\n",
    "\n",
    "# Plotting\n",
    "fig, axs = plt.subplots(1, 2)\n",
    "fig.tight_layout()\n",
    "\n",
    "axs[0].set_title('Original')\n",
    "show_image = axs[0].imshow(image, aspect='equal')\n",
    "bar_image = plt.colorbar(show_image, ax=axs[0], fraction=0.045, pad=0.04)\n",
    "\n",
    "axs[1].set_title('Projection')\n",
    "show_proj_image = axs[1].imshow(projected_image, aspect='equal')\n",
    "bar_proj_image = plt.colorbar(show_proj_image, ax=axs[1], fraction=0.045, pad=0.04)"
   ],
   "metadata": {
    "collapsed": false
   }
  },
  {
   "cell_type": "code",
   "execution_count": 37,
   "outputs": [],
   "source": [
    "x = 1"
   ],
   "metadata": {
    "collapsed": false
   }
  },
  {
   "cell_type": "code",
   "execution_count": 37,
   "outputs": [],
   "source": [],
   "metadata": {
    "collapsed": false
   }
  },
  {
   "cell_type": "code",
   "execution_count": null,
   "outputs": [],
   "source": [],
   "metadata": {
    "collapsed": false
   }
  },
  {
   "cell_type": "code",
   "execution_count": null,
   "outputs": [],
   "source": [],
   "metadata": {
    "collapsed": false
   }
  },
  {
   "cell_type": "code",
   "execution_count": 8,
   "outputs": [],
   "source": [
    "import numpy as np"
   ],
   "metadata": {
    "collapsed": false
   }
  },
  {
   "cell_type": "code",
   "execution_count": 9,
   "outputs": [],
   "source": [
    "X = np.matrix([ [1, 3], [1, -2], [1, -1], [1, 0] ])\n",
    "Y = np.array([4, -1, 0, 2])"
   ],
   "metadata": {
    "collapsed": false
   }
  },
  {
   "cell_type": "code",
   "execution_count": 10,
   "outputs": [
    {
     "data": {
      "text/plain": "matrix([[ 1,  3],\n        [ 1, -2],\n        [ 1, -1],\n        [ 1,  0]])"
     },
     "execution_count": 10,
     "metadata": {},
     "output_type": "execute_result"
    }
   ],
   "source": [
    "X"
   ],
   "metadata": {
    "collapsed": false
   }
  },
  {
   "cell_type": "code",
   "execution_count": 11,
   "outputs": [],
   "source": [
    "Z = np.dot(X.T, X)\n",
    "I = np.linalg.inv(Z)\n",
    "PI = np.dot(I, X.T)\n",
    "hat_beta = np.dot(PI, Y)"
   ],
   "metadata": {
    "collapsed": false
   }
  },
  {
   "cell_type": "code",
   "execution_count": 12,
   "outputs": [
    {
     "data": {
      "text/plain": "matrix([[1.25, 1.  ]])"
     },
     "execution_count": 12,
     "metadata": {},
     "output_type": "execute_result"
    }
   ],
   "source": [
    "hat_beta"
   ],
   "metadata": {
    "collapsed": false
   }
  },
  {
   "cell_type": "code",
   "execution_count": 13,
   "outputs": [
    {
     "data": {
      "text/plain": "1.0"
     },
     "execution_count": 13,
     "metadata": {},
     "output_type": "execute_result"
    }
   ],
   "source": [
    "1.3 + (-0.1*3)"
   ],
   "metadata": {
    "collapsed": false
   }
  },
  {
   "cell_type": "code",
   "execution_count": 2,
   "outputs": [
    {
     "data": {
      "text/plain": "1.5"
     },
     "execution_count": 2,
     "metadata": {},
     "output_type": "execute_result"
    }
   ],
   "source": [
    "1.3 + (-0.1*-2)"
   ],
   "metadata": {
    "collapsed": false
   }
  },
  {
   "cell_type": "code",
   "execution_count": 3,
   "outputs": [
    {
     "data": {
      "text/plain": "0.8"
     },
     "execution_count": 3,
     "metadata": {},
     "output_type": "execute_result"
    }
   ],
   "source": [
    "1.3 + (-0.1*5)"
   ],
   "metadata": {
    "collapsed": false
   }
  },
  {
   "cell_type": "code",
   "execution_count": 4,
   "outputs": [
    {
     "data": {
      "text/plain": "1.6"
     },
     "execution_count": 4,
     "metadata": {},
     "output_type": "execute_result"
    }
   ],
   "source": [
    "1.3 + (-0.1*-3)"
   ],
   "metadata": {
    "collapsed": false
   }
  },
  {
   "cell_type": "code",
   "execution_count": 5,
   "outputs": [
    {
     "data": {
      "text/plain": "6.45"
     },
     "execution_count": 5,
     "metadata": {},
     "output_type": "execute_result"
    }
   ],
   "source": [
    "(1-3)**2 + (1.5-0)**2 + (.8-1)**2 + (1.6-2)**2"
   ],
   "metadata": {
    "collapsed": false
   }
  },
  {
   "cell_type": "code",
   "execution_count": 6,
   "outputs": [
    {
     "data": {
      "text/plain": "1.6125"
     },
     "execution_count": 6,
     "metadata": {},
     "output_type": "execute_result"
    }
   ],
   "source": [
    "6.45/4"
   ],
   "metadata": {
    "collapsed": false
   }
  },
  {
   "cell_type": "code",
   "execution_count": null,
   "outputs": [],
   "source": [],
   "metadata": {
    "collapsed": false,
    "pycharm": {
     "is_executing": true
    }
   }
  },
  {
   "cell_type": "code",
   "execution_count": 6,
   "outputs": [],
   "source": [],
   "metadata": {
    "collapsed": false
   }
  }
 ],
 "metadata": {
  "kernelspec": {
   "display_name": "Python 3",
   "language": "python",
   "name": "python3"
  },
  "language_info": {
   "codemirror_mode": {
    "name": "ipython",
    "version": 2
   },
   "file_extension": ".py",
   "mimetype": "text/x-python",
   "name": "python",
   "nbconvert_exporter": "python",
   "pygments_lexer": "ipython2",
   "version": "2.7.6"
  }
 },
 "nbformat": 4,
 "nbformat_minor": 0
}
